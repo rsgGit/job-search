{
 "cells": [
  {
   "cell_type": "code",
   "execution_count": 2,
   "metadata": {},
   "outputs": [],
   "source": [
    "import csv\n",
    "import requests\n",
    "from bs4 import BeautifulSoup\n",
    "from selenium import webdriver\n",
    "from selenium.webdriver.chrome.service import Service\n",
    "from selenium.webdriver.common.by import By\n",
    "from selenium.webdriver.chrome.options import Options\n",
    "from linkedin_api import Linkedin\n",
    "import pandas as pd\n",
    "from concurrent.futures import ThreadPoolExecutor\n",
    "from tqdm import tqdm\n",
    "from requests.adapters import HTTPAdapter\n",
    "from urllib3.util.retry import Retry\n",
    "import sqlite3\n",
    "\n"
   ]
  },
  {
   "cell_type": "code",
   "execution_count": 14,
   "metadata": {},
   "outputs": [],
   "source": [
    "connection = sqlite3.connect('labelled_data.db')\n",
    "\n",
    "# Write a SQL query to select the data\n",
    "query = \"SELECT * FROM labelled_job_postings\"\n",
    "\n",
    "# Load the data into a DataFrame\n",
    "df = pd.read_sql_query(query, connection)\n",
    "\n",
    "# Close the database connection\n",
    "connection.close()\n",
    "\n",
    "# Display the DataFrame\n"
   ]
  },
  {
   "cell_type": "code",
   "execution_count": 15,
   "metadata": {},
   "outputs": [
    {
     "name": "stdout",
     "output_type": "stream",
     "text": [
      "9458\n",
      "988     141\n",
      "893     135\n",
      "987      77\n",
      "922      69\n",
      "990      67\n",
      "       ... \n",
      "885       1\n",
      "756       1\n",
      "125       1\n",
      "1333      1\n",
      "1021      1\n",
      "Name: count, Length: 1386, dtype: int64\n"
     ]
    }
   ],
   "source": [
    "print(len(df))\n",
    "\n",
    "row_counts = df.groupby(['company', 'description', 'title']).size().reset_index(name='count').sort_values('count', ascending=False)\n",
    "print(row_counts['count'])\n"
   ]
  },
  {
   "cell_type": "code",
   "execution_count": 16,
   "metadata": {},
   "outputs": [
    {
     "name": "stdout",
     "output_type": "stream",
     "text": [
      "1387\n",
      "   id job_posting_id                     title  \\\n",
      "0   1     4038627932             PHP Developer   \n",
      "1   2     4041491685             PHP Developer   \n",
      "2   3     4039079429  Python Software Engineer   \n",
      "3   4     4039504748       Full Stack Engineer   \n",
      "4   5     4040799491     C++ Software Engineer   \n",
      "\n",
      "                                             company  \\\n",
      "0                                          Odd Shoes   \n",
      "1  Better Placed Ltd - A Sunday Times Top 10 Empl...   \n",
      "2                                                CFC   \n",
      "3                                        Two Circles   \n",
      "4             KO2 Embedded Recruitment Solutions Ltd   \n",
      "\n",
      "                           location  \\\n",
      "0                    United Kingdom   \n",
      "1                    United Kingdom   \n",
      "2       London Area, United Kingdom   \n",
      "3   London, England, United Kingdom   \n",
      "4  Reading, England, United Kingdom   \n",
      "\n",
      "                                         description  job_site  \\\n",
      "0  We all remember that favourite teacher from sc...  LinkedIn   \n",
      "1  PHP / Laravel Developer \\nFull Remote Working ...  LinkedIn   \n",
      "2  Job Description: \\nWorking within the speciali...  LinkedIn   \n",
      "3  ROLE: Full Stack EngineerOFFICE: LondonAbout U...  LinkedIn   \n",
      "4  Position: C++ Linux Software Engineer\\n\\nLocat...  LinkedIn   \n",
      "\n",
      "      sponsorship_available  \n",
      "0  Sponsorship Not Provided  \n",
      "1  Sponsorship Not Provided  \n",
      "2                 Uncertain  \n",
      "3                 Uncertain  \n",
      "4  Sponsorship Not Provided  \n"
     ]
    }
   ],
   "source": [
    "df = df.drop_duplicates(subset=['company', 'description', 'title'], keep='first')\n",
    "print(len(df))\n",
    "print(df.head())\n"
   ]
  },
  {
   "cell_type": "code",
   "execution_count": 17,
   "metadata": {},
   "outputs": [
    {
     "name": "stdout",
     "output_type": "stream",
     "text": [
      "Duplicate records removed successfully!\n"
     ]
    }
   ],
   "source": [
    "# Connect to the SQLite database\n",
    "conn = sqlite3.connect('labelled_data.db')\n",
    "cursor = conn.cursor()\n",
    "\n",
    "# Delete duplicate rows while keeping the first occurrence\n",
    "cursor.execute('''\n",
    "    DELETE FROM labelled_job_postings\n",
    "    WHERE id NOT IN (\n",
    "        SELECT MIN(id)\n",
    "        FROM labelled_job_postings\n",
    "        GROUP BY company, description, title\n",
    "    )\n",
    "''')\n",
    "\n",
    "# Commit the changes and close the connection\n",
    "conn.commit()\n",
    "conn.close()\n",
    "\n",
    "print(\"Duplicate records removed successfully!\")"
   ]
  },
  {
   "cell_type": "code",
   "execution_count": 18,
   "metadata": {},
   "outputs": [
    {
     "name": "stdout",
     "output_type": "stream",
     "text": [
      "Duplicate records removed successfully!\n"
     ]
    }
   ],
   "source": [
    "# Connect to the SQLite database\n",
    "conn = sqlite3.connect('labelled_data.db')\n",
    "cursor = conn.cursor()\n",
    "\n",
    "# Delete duplicate rows while keeping the first occurrence\n",
    "cursor.execute('''\n",
    "    DELETE FROM labelled_job_postings\n",
    "    WHERE sponsorship_available is null\n",
    "''')\n",
    "\n",
    "# Commit the changes and close the connection\n",
    "conn.commit()\n",
    "conn.close()\n",
    "\n",
    "print(\"Duplicate records removed successfully!\")"
   ]
  },
  {
   "cell_type": "code",
   "execution_count": 37,
   "metadata": {},
   "outputs": [],
   "source": [
    "df = pd.read_csv(\"ai_generated_data/uncertain/data.csv\")\n",
    "\n",
    "data = [\n",
    "    (row['Job Title'], row['Company Name'], row['Location'], row['Job Description'], 'Uncertain')\n",
    "    for index, row in df.iterrows()\n",
    "]\n",
    "\n",
    "conn = sqlite3.connect('labelled_data.db')\n",
    "cursor = conn.cursor()\n",
    "cursor.executemany('''\n",
    "                        INSERT INTO labelled_job_postings(title, company, location, description, sponsorship_available)\n",
    "                        VALUES (?, ?, ?, ?, ?)\n",
    "                    ''', data\n",
    "    )\n",
    "conn.commit()\n",
    "conn.close()"
   ]
  },
  {
   "cell_type": "code",
   "execution_count": 38,
   "metadata": {},
   "outputs": [],
   "source": [
    "# Connect to the SQLite database\n",
    "conn = sqlite3.connect('labelled_data.db')\n",
    "cursor = conn.cursor()\n",
    "\n",
    "# Delete duplicate rows while keeping the first occurrence\n",
    "cursor.execute('''\n",
    "\n",
    "    DELETE FROM labelled_job_postings\n",
    "    WHERE id IN (\n",
    "        SELECT id FROM (\n",
    "            SELECT id\n",
    "            FROM labelled_job_postings\n",
    "            WHERE sponsorship_available = 'Sponsorship Provided'\n",
    "            ORDER BY id DESC\n",
    "            LIMIT 12\n",
    "        ) subquery\n",
    "    )         \n",
    "    \n",
    "  \n",
    "''')\n",
    "\n",
    "# Commit the changes and close the connection\n",
    "conn.commit()\n",
    "conn.close()"
   ]
  }
 ],
 "metadata": {
  "kernelspec": {
   "display_name": "Python 3",
   "language": "python",
   "name": "python3"
  },
  "language_info": {
   "codemirror_mode": {
    "name": "ipython",
    "version": 3
   },
   "file_extension": ".py",
   "mimetype": "text/x-python",
   "name": "python",
   "nbconvert_exporter": "python",
   "pygments_lexer": "ipython3",
   "version": "3.13.1"
  }
 },
 "nbformat": 4,
 "nbformat_minor": 2
}
